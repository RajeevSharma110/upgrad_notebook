{
 "cells": [
  {
   "cell_type": "code",
   "execution_count": 6,
   "id": "44344873",
   "metadata": {},
   "outputs": [
    {
     "name": "stdout",
     "output_type": "stream",
     "text": [
      "1,1,1,1,1\n",
      "False\n"
     ]
    }
   ],
   "source": [
    "import ast\n",
    "input_str = input()\n",
    "input_list = ast.literal_eval(input_str)\n",
    "\n",
    "data = input_list[0]\n",
    "check = input_list[1]\n",
    "\n",
    "# s = 0\n",
    "# for item in input_list:\n",
    "#     s = s + item\n",
    "# total = len(input_list)\n",
    "# avg = s/total\n",
    "# if check > avg:\n",
    "#     print(\"Yes\")\n",
    "# else:\n",
    "#     print(\"No\")\n",
    "\n",
    "\"\"\"OR\"\"\"   \n",
    "    \n",
    "    \n",
    "from functools import reduce\n",
    "s = reduce(lambda a,b:a+b,input_list) # this line gives summation of elements in the list i.e. using lambda function\n",
    "total = len(input_list)                  # lambda function is single line output function\n",
    "avg = s/total\n",
    "if check > avg:\n",
    "    print(True)\n",
    "else:\n",
    "    print(False)"
   ]
  }
 ],
 "metadata": {
  "kernelspec": {
   "display_name": "Python 3",
   "language": "python",
   "name": "python3"
  },
  "language_info": {
   "codemirror_mode": {
    "name": "ipython",
    "version": 3
   },
   "file_extension": ".py",
   "mimetype": "text/x-python",
   "name": "python",
   "nbconvert_exporter": "python",
   "pygments_lexer": "ipython3",
   "version": "3.8.8"
  }
 },
 "nbformat": 4,
 "nbformat_minor": 5
}
