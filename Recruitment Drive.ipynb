{
 "cells": [
  {
   "cell_type": "code",
   "execution_count": 6,
   "id": "d7944b7f",
   "metadata": {},
   "outputs": [
    {
     "name": "stdout",
     "output_type": "stream",
     "text": [
      "[23,45,34,76]\n",
      "[70,34,94]\n",
      "[23, 45, 34, 76, 70, 94]\n"
     ]
    }
   ],
   "source": [
    "import ast\n",
    "\n",
    "team = ast.literal_eval(input())\n",
    "applicant = ast.literal_eval(input())\n",
    "\n",
    "def check_above_average(data,check):\n",
    "#     s=0\n",
    "#     for item in data:\n",
    "#         s=s+item\n",
    "    s=sum(data)\n",
    "    total=len(data)\n",
    "    avg=s/total\n",
    "    if check>avg:\n",
    "        return 1\n",
    "    else:\n",
    "        return 0\n",
    "for appl in applicant:\n",
    "    is_add=check_above_average(team,appl)\n",
    "    if is_add==1:\n",
    "        team.append(appl)\n",
    "print(team)"
   ]
  }
 ],
 "metadata": {
  "kernelspec": {
   "display_name": "Python 3",
   "language": "python",
   "name": "python3"
  },
  "language_info": {
   "codemirror_mode": {
    "name": "ipython",
    "version": 3
   },
   "file_extension": ".py",
   "mimetype": "text/x-python",
   "name": "python",
   "nbconvert_exporter": "python",
   "pygments_lexer": "ipython3",
   "version": "3.8.8"
  }
 },
 "nbformat": 4,
 "nbformat_minor": 5
}
