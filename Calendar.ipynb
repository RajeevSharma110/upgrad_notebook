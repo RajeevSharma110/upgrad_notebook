{
 "cells": [
  {
   "cell_type": "code",
   "execution_count": 1,
   "id": "acdf5e9f",
   "metadata": {},
   "outputs": [
    {
     "name": "stdout",
     "output_type": "stream",
     "text": [
      "[24,26],[23,25],[29,31],[25,26]\n",
      "25\n",
      "3\n"
     ]
    }
   ],
   "source": [
    "import ast\n",
    "input_str1=input()\n",
    "input_list1=ast.literal_eval(input_str1)\n",
    "events=input_list1\n",
    "wedding=int(input())\n",
    "clash=0\n",
    "for event in events:\n",
    "    if event[0]<=wedding and event[1]>=wedding:\n",
    "        clash+=1\n",
    "print(clash)"
   ]
  }
 ],
 "metadata": {
  "kernelspec": {
   "display_name": "Python 3",
   "language": "python",
   "name": "python3"
  },
  "language_info": {
   "codemirror_mode": {
    "name": "ipython",
    "version": 3
   },
   "file_extension": ".py",
   "mimetype": "text/x-python",
   "name": "python",
   "nbconvert_exporter": "python",
   "pygments_lexer": "ipython3",
   "version": "3.8.8"
  }
 },
 "nbformat": 4,
 "nbformat_minor": 5
}
