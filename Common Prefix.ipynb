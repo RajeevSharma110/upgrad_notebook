{
 "cells": [
  {
   "cell_type": "code",
   "execution_count": 16,
   "id": "8b34b797",
   "metadata": {},
   "outputs": [
    {
     "name": "stdout",
     "output_type": "stream",
     "text": [
      "upgrad\n",
      "upgradschhgh\n",
      "upgra\n"
     ]
    }
   ],
   "source": [
    "string1=input()\n",
    "string2=input()\n",
    "\n",
    "#start writing your code to find largest common prefix here\n",
    "string1 = string1.lower()\n",
    "string2 = string2.lower()\n",
    "l1 = len(string1)\n",
    "l2 = len(string2)\n",
    "min_len = min(l1,l2)\n",
    "# print(min_len)\n",
    "for i in range(min_len):\n",
    "    if string1[i] != string2[i]:\n",
    "        break\n",
    "if i == 0:\n",
    "    print(-1)\n",
    "else:\n",
    "    print(string2[:i])"
   ]
  }
 ],
 "metadata": {
  "kernelspec": {
   "display_name": "Python 3",
   "language": "python",
   "name": "python3"
  },
  "language_info": {
   "codemirror_mode": {
    "name": "ipython",
    "version": 3
   },
   "file_extension": ".py",
   "mimetype": "text/x-python",
   "name": "python",
   "nbconvert_exporter": "python",
   "pygments_lexer": "ipython3",
   "version": "3.8.8"
  }
 },
 "nbformat": 4,
 "nbformat_minor": 5
}
