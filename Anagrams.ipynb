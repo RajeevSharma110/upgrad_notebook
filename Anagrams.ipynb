{
 "cells": [
  {
   "cell_type": "code",
   "execution_count": 4,
   "id": "1c3d0999",
   "metadata": {},
   "outputs": [
    {
     "name": "stdout",
     "output_type": "stream",
     "text": [
      "thing\n",
      "night\n",
      "True\n"
     ]
    }
   ],
   "source": [
    "s1 = input()\n",
    "s2 = input()\n",
    "def anagrams(s1,s2):\n",
    "    if len(s1) != len(s2):\n",
    "        return False\n",
    "    for i in range(len(s1)):\n",
    "        if s1.count(s1[i]) != s2.count(s1[i]):\n",
    "            return False\n",
    "    return True\n",
    "print(anagrams(s1,s2))"
   ]
  }
 ],
 "metadata": {
  "kernelspec": {
   "display_name": "Python 3",
   "language": "python",
   "name": "python3"
  },
  "language_info": {
   "codemirror_mode": {
    "name": "ipython",
    "version": 3
   },
   "file_extension": ".py",
   "mimetype": "text/x-python",
   "name": "python",
   "nbconvert_exporter": "python",
   "pygments_lexer": "ipython3",
   "version": "3.8.8"
  }
 },
 "nbformat": 4,
 "nbformat_minor": 5
}
