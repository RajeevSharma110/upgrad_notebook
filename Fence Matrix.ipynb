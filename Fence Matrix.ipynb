{
 "cells": [
  {
   "cell_type": "code",
   "execution_count": 2,
   "id": "e6b1a7cb",
   "metadata": {},
   "outputs": [
    {
     "name": "stdout",
     "output_type": "stream",
     "text": [
      "4,9\n",
      "[1, 1, 1, 1, 1, 1, 1, 1, 1]\n",
      "[1, 0, 0, 0, 0, 0, 0, 0, 1]\n",
      "[1, 0, 0, 0, 0, 0, 0, 0, 1]\n",
      "[1, 1, 1, 1, 1, 1, 1, 1, 1]\n"
     ]
    }
   ],
   "source": [
    "import ast\n",
    "mylist=ast.literal_eval(input())\n",
    "m=mylist[0]\n",
    "n=mylist[1]\n",
    "final=[0]*n\n",
    "#[000000] if n=5\n",
    "# Considering here Deep copy rather than shallow copy for final list\n",
    "final=[list(final) for i in range(m)] # copying the number of rows as a new list in memory.\n",
    "for i in range(m):\n",
    "    for j in range(n):\n",
    "        if i==0 or j==0 or i==m-1 or j==n-1:\n",
    "            final[i][j]=1\n",
    "for i in final:\n",
    "    print(i)"
   ]
  }
 ],
 "metadata": {
  "kernelspec": {
   "display_name": "Python 3",
   "language": "python",
   "name": "python3"
  },
  "language_info": {
   "codemirror_mode": {
    "name": "ipython",
    "version": 3
   },
   "file_extension": ".py",
   "mimetype": "text/x-python",
   "name": "python",
   "nbconvert_exporter": "python",
   "pygments_lexer": "ipython3",
   "version": "3.8.8"
  }
 },
 "nbformat": 4,
 "nbformat_minor": 5
}
