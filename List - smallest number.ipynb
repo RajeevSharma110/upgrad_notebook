{
 "cells": [
  {
   "cell_type": "code",
   "execution_count": 3,
   "id": "4ebfddf4",
   "metadata": {},
   "outputs": [
    {
     "name": "stdout",
     "output_type": "stream",
     "text": [
      "0,5,-9,5,88\n",
      "-9\n"
     ]
    }
   ],
   "source": [
    "import ast\n",
    "input_str = input()\n",
    "input_list = ast.literal_eval(input_str)\n",
    "\n",
    "# if len(input_list)==0:\n",
    "#     print(\"no minimum\")\n",
    "# else:\n",
    "#     m = input_list[0]\n",
    "#     for item in input_list:\n",
    "#         if item < m:\n",
    "#             m = item\n",
    "#     print(m)\n",
    "    \n",
    "# instead of writing lengthy codes for the problem , we can use python in-built function for getting the same result.\n",
    "    \n",
    "print(min(input_list))  # using python inbuilt function for getting the minimum out of the list"
   ]
  }
 ],
 "metadata": {
  "kernelspec": {
   "display_name": "Python 3",
   "language": "python",
   "name": "python3"
  },
  "language_info": {
   "codemirror_mode": {
    "name": "ipython",
    "version": 3
   },
   "file_extension": ".py",
   "mimetype": "text/x-python",
   "name": "python",
   "nbconvert_exporter": "python",
   "pygments_lexer": "ipython3",
   "version": "3.8.8"
  }
 },
 "nbformat": 4,
 "nbformat_minor": 5
}
