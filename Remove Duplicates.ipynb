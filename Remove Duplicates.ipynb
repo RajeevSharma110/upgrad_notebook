{
 "cells": [
  {
   "cell_type": "code",
   "execution_count": 1,
   "id": "4980e9cc",
   "metadata": {},
   "outputs": [
    {
     "name": "stdout",
     "output_type": "stream",
     "text": [
      "[2,5,2,4,5,7,1]\n",
      "[2, 5, 4, 7, 1]\n"
     ]
    }
   ],
   "source": [
    "#take input here\n",
    "import ast\n",
    "\n",
    "my_list = ast.literal_eval(input())\n",
    "d = {}\n",
    "\n",
    "#remove duplicates from the list\n",
    "for item in my_list:\n",
    "    if item not in d:\n",
    "        d[item]=1\n",
    "#print the list without duplicates\n",
    "print(list(d.keys()))"
   ]
  }
 ],
 "metadata": {
  "kernelspec": {
   "display_name": "Python 3",
   "language": "python",
   "name": "python3"
  },
  "language_info": {
   "codemirror_mode": {
    "name": "ipython",
    "version": 3
   },
   "file_extension": ".py",
   "mimetype": "text/x-python",
   "name": "python",
   "nbconvert_exporter": "python",
   "pygments_lexer": "ipython3",
   "version": "3.8.8"
  }
 },
 "nbformat": 4,
 "nbformat_minor": 5
}
