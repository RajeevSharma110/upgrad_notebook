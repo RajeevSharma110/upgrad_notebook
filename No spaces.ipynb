{
 "cells": [
  {
   "cell_type": "code",
   "execution_count": 1,
   "id": "3c6aa0dd",
   "metadata": {},
   "outputs": [
    {
     "name": "stdout",
     "output_type": "stream",
     "text": [
      "dAta sCieNce\n",
      "Data_Science\n"
     ]
    }
   ],
   "source": [
    "#take input here\n",
    "s=input()\n",
    "#write code to format the string s as asked \n",
    "s = s.lower()\n",
    "l = s.split(' ')\n",
    "final_l = [ i[0].upper() + i[1:] for i in l]\n",
    "final_l = '_'.join(final_l)\n",
    "print(final_l)"
   ]
  }
 ],
 "metadata": {
  "kernelspec": {
   "display_name": "Python 3",
   "language": "python",
   "name": "python3"
  },
  "language_info": {
   "codemirror_mode": {
    "name": "ipython",
    "version": 3
   },
   "file_extension": ".py",
   "mimetype": "text/x-python",
   "name": "python",
   "nbconvert_exporter": "python",
   "pygments_lexer": "ipython3",
   "version": "3.8.8"
  }
 },
 "nbformat": 4,
 "nbformat_minor": 5
}
